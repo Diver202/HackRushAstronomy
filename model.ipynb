{
 "cells": [
  {
   "cell_type": "code",
   "execution_count": 2,
   "id": "d2432efd",
   "metadata": {},
   "outputs": [],
   "source": [
    "import os\n",
    "import pandas as pd\n",
    "from PIL import Image\n",
    "import torch\n",
    "import torch.nn as nn\n",
    "import torch.nn.functional as F\n",
    "from torch.utils.data import Dataset, DataLoader\n",
    "from torchvision import transforms\n",
    "import matplotlib.pyplot as plt"
   ]
  },
  {
   "cell_type": "code",
   "execution_count": 4,
   "id": "a6ee238d",
   "metadata": {},
   "outputs": [],
   "source": [
    "# Preprocessing\n",
    "trainTransform = transforms.Compose([\n",
    "    transforms.Resize((128,128)),\n",
    "    transforms.RandomRotation(20),\n",
    "    transforms.RandomHorizontalFlip(),\n",
    "    transforms.ToTensor(),\n",
    "    transforms.Normalize(mean = [0.5]*3, std = [0.5]*3)])"
   ]
  },
  {
   "cell_type": "code",
   "execution_count": 6,
   "id": "8d04241f",
   "metadata": {},
   "outputs": [],
   "source": [
    "#Validation transform\n",
    "valTransform = transforms.Compose([\n",
    "    transforms.Resize((224,224)),\n",
    "    transforms.ToTensor(),\n",
    "    transforms.Normalize(mean = [0.5]*3, std = [0.5]*3)\n",
    "])"
   ]
  },
  {
   "cell_type": "code",
   "execution_count": null,
   "id": "c236d4ec",
   "metadata": {},
   "outputs": [],
   "source": [
    "#Generating dataset\n",
    "class GalaxyDataset(Dataset):\n",
    "    def __init__(self, csvfile, imgDir, transform = None):\n",
    "        self.Data = pd.read_csv(\"train.csv\") #Labels for training\n",
    "        self.imgDir = imgDir #Loads the folder with images\n",
    "        self.transform = transform #Applies transform (trainTranform or Validation transform)\n",
    "\n",
    "        #Setting up the labels:\n",
    "        self.labels = self.Data[['SPIRAL', 'ELLIPTICAL', 'UNCERTAIN'].values.argmax(axis = 1)]\n",
    "        self.imageNames = self.Data['asset_id'].astype(str) + '.jpg'\n",
    "\n",
    "    def __len__(self):\n",
    "        return len(self.Data)\n",
    "    \n",
    "    def __getitem__(self, idx):\n",
    "        imgPath = os.path.join(self.imgDir, self.iamgeNames.iloc[idx])\n",
    "        image = Image.open(imgPath).convert('RGB')"
   ]
  }
 ],
 "metadata": {
  "kernelspec": {
   "display_name": "Python 3",
   "language": "python",
   "name": "python3"
  },
  "language_info": {
   "codemirror_mode": {
    "name": "ipython",
    "version": 3
   },
   "file_extension": ".py",
   "mimetype": "text/x-python",
   "name": "python",
   "nbconvert_exporter": "python",
   "pygments_lexer": "ipython3",
   "version": "3.12.5"
  }
 },
 "nbformat": 4,
 "nbformat_minor": 5
}
